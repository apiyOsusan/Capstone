{
 "cells": [
  {
   "cell_type": "markdown",
   "id": "aa4d0218",
   "metadata": {},
   "source": [
    "## Problem Description:\n",
    "The goal of this project is to predict individual incomes to identify those who may be in need of financial assistance. By accurately predicting income levels, we can better understand the factors that contribute to income disparities and evaluate the effectiveness of policies aimed at reducing income poverty.\n",
    "\n",
    "## Importance:\n",
    "Understanding income distribution is essential for policymakers to target resources effectively. Identifying individuals and groups that are most in need can help in designing interventions that reduce poverty and improve economic stability. This analysis can also provide insights into the socio-economic factors that influence income, aiding in more informed decision-making.\n",
    "\n",
    "## Expected Outcome:\n",
    "The expected outcome is a predictive model that accurately identifies individuals with lower incomes. Additionally, we aim to uncover insights into the key factors that contribute to income disparities, which can inform policy recommendations."
   ]
  },
  {
   "cell_type": "code",
   "execution_count": 2,
   "id": "95ba1ea9",
   "metadata": {},
   "outputs": [],
   "source": [
    "#import neccesarry libraries\n",
    "import pandas as pd \n",
    "import numpy as np \n",
    "import matplotlib.pyplot as plt \n",
    "import seaborn as sns \n",
    "import os\n",
    "import sys\n",
    "import warnings\n",
    "warnings.filterwarnings('ignore')"
   ]
  },
  {
   "cell_type": "code",
   "execution_count": 3,
   "id": "6b309346",
   "metadata": {},
   "outputs": [
    {
     "data": {
      "text/html": [
       "<div>\n",
       "<style scoped>\n",
       "    .dataframe tbody tr th:only-of-type {\n",
       "        vertical-align: middle;\n",
       "    }\n",
       "\n",
       "    .dataframe tbody tr th {\n",
       "        vertical-align: top;\n",
       "    }\n",
       "\n",
       "    .dataframe thead th {\n",
       "        text-align: right;\n",
       "    }\n",
       "</style>\n",
       "<table border=\"1\" class=\"dataframe\">\n",
       "  <thead>\n",
       "    <tr style=\"text-align: right;\">\n",
       "      <th></th>\n",
       "      <th>age</th>\n",
       "      <th>workclass</th>\n",
       "      <th>fnlwgt</th>\n",
       "      <th>education</th>\n",
       "      <th>education-num</th>\n",
       "      <th>marital-status</th>\n",
       "      <th>occupation</th>\n",
       "      <th>relationship</th>\n",
       "      <th>race</th>\n",
       "      <th>sex</th>\n",
       "      <th>capital-gain</th>\n",
       "      <th>capital-loss</th>\n",
       "      <th>hours-per-week</th>\n",
       "      <th>native-country</th>\n",
       "      <th>income</th>\n",
       "    </tr>\n",
       "  </thead>\n",
       "  <tbody>\n",
       "    <tr>\n",
       "      <th>0</th>\n",
       "      <td>39</td>\n",
       "      <td>State-gov</td>\n",
       "      <td>77516</td>\n",
       "      <td>Bachelors</td>\n",
       "      <td>13</td>\n",
       "      <td>Never-married</td>\n",
       "      <td>Adm-clerical</td>\n",
       "      <td>Not-in-family</td>\n",
       "      <td>White</td>\n",
       "      <td>Male</td>\n",
       "      <td>2174</td>\n",
       "      <td>0</td>\n",
       "      <td>40</td>\n",
       "      <td>United-States</td>\n",
       "      <td>&lt;=50K</td>\n",
       "    </tr>\n",
       "    <tr>\n",
       "      <th>1</th>\n",
       "      <td>50</td>\n",
       "      <td>Self-emp-not-inc</td>\n",
       "      <td>83311</td>\n",
       "      <td>Bachelors</td>\n",
       "      <td>13</td>\n",
       "      <td>Married-civ-spouse</td>\n",
       "      <td>Exec-managerial</td>\n",
       "      <td>Husband</td>\n",
       "      <td>White</td>\n",
       "      <td>Male</td>\n",
       "      <td>0</td>\n",
       "      <td>0</td>\n",
       "      <td>13</td>\n",
       "      <td>United-States</td>\n",
       "      <td>&lt;=50K</td>\n",
       "    </tr>\n",
       "    <tr>\n",
       "      <th>2</th>\n",
       "      <td>38</td>\n",
       "      <td>Private</td>\n",
       "      <td>215646</td>\n",
       "      <td>HS-grad</td>\n",
       "      <td>9</td>\n",
       "      <td>Divorced</td>\n",
       "      <td>Handlers-cleaners</td>\n",
       "      <td>Not-in-family</td>\n",
       "      <td>White</td>\n",
       "      <td>Male</td>\n",
       "      <td>0</td>\n",
       "      <td>0</td>\n",
       "      <td>40</td>\n",
       "      <td>United-States</td>\n",
       "      <td>&lt;=50K</td>\n",
       "    </tr>\n",
       "    <tr>\n",
       "      <th>3</th>\n",
       "      <td>53</td>\n",
       "      <td>Private</td>\n",
       "      <td>234721</td>\n",
       "      <td>11th</td>\n",
       "      <td>7</td>\n",
       "      <td>Married-civ-spouse</td>\n",
       "      <td>Handlers-cleaners</td>\n",
       "      <td>Husband</td>\n",
       "      <td>Black</td>\n",
       "      <td>Male</td>\n",
       "      <td>0</td>\n",
       "      <td>0</td>\n",
       "      <td>40</td>\n",
       "      <td>United-States</td>\n",
       "      <td>&lt;=50K</td>\n",
       "    </tr>\n",
       "    <tr>\n",
       "      <th>4</th>\n",
       "      <td>28</td>\n",
       "      <td>Private</td>\n",
       "      <td>338409</td>\n",
       "      <td>Bachelors</td>\n",
       "      <td>13</td>\n",
       "      <td>Married-civ-spouse</td>\n",
       "      <td>Prof-specialty</td>\n",
       "      <td>Wife</td>\n",
       "      <td>Black</td>\n",
       "      <td>Female</td>\n",
       "      <td>0</td>\n",
       "      <td>0</td>\n",
       "      <td>40</td>\n",
       "      <td>Cuba</td>\n",
       "      <td>&lt;=50K</td>\n",
       "    </tr>\n",
       "  </tbody>\n",
       "</table>\n",
       "</div>"
      ],
      "text/plain": [
       "   age          workclass  fnlwgt   education  education-num  \\\n",
       "0   39          State-gov   77516   Bachelors             13   \n",
       "1   50   Self-emp-not-inc   83311   Bachelors             13   \n",
       "2   38            Private  215646     HS-grad              9   \n",
       "3   53            Private  234721        11th              7   \n",
       "4   28            Private  338409   Bachelors             13   \n",
       "\n",
       "        marital-status          occupation    relationship    race      sex  \\\n",
       "0        Never-married        Adm-clerical   Not-in-family   White     Male   \n",
       "1   Married-civ-spouse     Exec-managerial         Husband   White     Male   \n",
       "2             Divorced   Handlers-cleaners   Not-in-family   White     Male   \n",
       "3   Married-civ-spouse   Handlers-cleaners         Husband   Black     Male   \n",
       "4   Married-civ-spouse      Prof-specialty            Wife   Black   Female   \n",
       "\n",
       "   capital-gain  capital-loss  hours-per-week  native-country  income  \n",
       "0          2174             0              40   United-States   <=50K  \n",
       "1             0             0              13   United-States   <=50K  \n",
       "2             0             0              40   United-States   <=50K  \n",
       "3             0             0              40   United-States   <=50K  \n",
       "4             0             0              40            Cuba   <=50K  "
      ]
     },
     "execution_count": 3,
     "metadata": {},
     "output_type": "execute_result"
    }
   ],
   "source": [
    "#load the dataset\n",
    "data = pd.read_csv('adult.csv', header=None)\n",
    "\n",
    "# Assign correct column names manually\n",
    "data.columns = [\n",
    "    'age', 'workclass', 'fnlwgt', 'education', 'education-num',\n",
    "    'marital-status', 'occupation', 'relationship', 'race', 'sex',\n",
    "    'capital-gain', 'capital-loss', 'hours-per-week', 'native-country', 'income'\n",
    "]\n",
    "\n",
    "data.head()"
   ]
  },
  {
   "cell_type": "code",
   "execution_count": 4,
   "id": "ea846e65",
   "metadata": {},
   "outputs": [
    {
     "data": {
      "text/plain": [
       "Index(['age', 'workclass', 'fnlwgt', 'education', 'education-num',\n",
       "       'marital-status', 'occupation', 'relationship', 'race', 'sex',\n",
       "       'capital-gain', 'capital-loss', 'hours-per-week', 'native-country',\n",
       "       'income'],\n",
       "      dtype='object')"
      ]
     },
     "execution_count": 4,
     "metadata": {},
     "output_type": "execute_result"
    }
   ],
   "source": [
    "data.columns"
   ]
  },
  {
   "cell_type": "code",
   "execution_count": 5,
   "id": "9c3217dd",
   "metadata": {},
   "outputs": [
    {
     "data": {
      "text/plain": [
       "(32561, 15)"
      ]
     },
     "execution_count": 5,
     "metadata": {},
     "output_type": "execute_result"
    }
   ],
   "source": [
    "data.shape"
   ]
  },
  {
   "cell_type": "code",
   "execution_count": 6,
   "id": "39076d4f",
   "metadata": {},
   "outputs": [
    {
     "name": "stdout",
     "output_type": "stream",
     "text": [
      "<class 'pandas.core.frame.DataFrame'>\n",
      "RangeIndex: 32561 entries, 0 to 32560\n",
      "Data columns (total 15 columns):\n",
      " #   Column          Non-Null Count  Dtype \n",
      "---  ------          --------------  ----- \n",
      " 0   age             32561 non-null  int64 \n",
      " 1   workclass       32561 non-null  object\n",
      " 2   fnlwgt          32561 non-null  int64 \n",
      " 3   education       32561 non-null  object\n",
      " 4   education-num   32561 non-null  int64 \n",
      " 5   marital-status  32561 non-null  object\n",
      " 6   occupation      32561 non-null  object\n",
      " 7   relationship    32561 non-null  object\n",
      " 8   race            32561 non-null  object\n",
      " 9   sex             32561 non-null  object\n",
      " 10  capital-gain    32561 non-null  int64 \n",
      " 11  capital-loss    32561 non-null  int64 \n",
      " 12  hours-per-week  32561 non-null  int64 \n",
      " 13  native-country  32561 non-null  object\n",
      " 14  income          32561 non-null  object\n",
      "dtypes: int64(6), object(9)\n",
      "memory usage: 3.7+ MB\n"
     ]
    }
   ],
   "source": [
    "data.info()"
   ]
  },
  {
   "cell_type": "code",
   "execution_count": 7,
   "id": "b0bd44f4",
   "metadata": {},
   "outputs": [
    {
     "data": {
      "text/plain": [
       "age               0\n",
       "workclass         0\n",
       "fnlwgt            0\n",
       "education         0\n",
       "education-num     0\n",
       "marital-status    0\n",
       "occupation        0\n",
       "relationship      0\n",
       "race              0\n",
       "sex               0\n",
       "capital-gain      0\n",
       "capital-loss      0\n",
       "hours-per-week    0\n",
       "native-country    0\n",
       "income            0\n",
       "dtype: int64"
      ]
     },
     "execution_count": 7,
     "metadata": {},
     "output_type": "execute_result"
    }
   ],
   "source": [
    "data.isnull().sum()"
   ]
  },
  {
   "cell_type": "code",
   "execution_count": 8,
   "id": "0ddd84fd",
   "metadata": {},
   "outputs": [
    {
     "data": {
      "text/html": [
       "<div>\n",
       "<style scoped>\n",
       "    .dataframe tbody tr th:only-of-type {\n",
       "        vertical-align: middle;\n",
       "    }\n",
       "\n",
       "    .dataframe tbody tr th {\n",
       "        vertical-align: top;\n",
       "    }\n",
       "\n",
       "    .dataframe thead th {\n",
       "        text-align: right;\n",
       "    }\n",
       "</style>\n",
       "<table border=\"1\" class=\"dataframe\">\n",
       "  <thead>\n",
       "    <tr style=\"text-align: right;\">\n",
       "      <th></th>\n",
       "      <th>age</th>\n",
       "      <th>fnlwgt</th>\n",
       "      <th>education-num</th>\n",
       "      <th>capital-gain</th>\n",
       "      <th>capital-loss</th>\n",
       "      <th>hours-per-week</th>\n",
       "    </tr>\n",
       "  </thead>\n",
       "  <tbody>\n",
       "    <tr>\n",
       "      <th>count</th>\n",
       "      <td>32561.000000</td>\n",
       "      <td>3.256100e+04</td>\n",
       "      <td>32561.000000</td>\n",
       "      <td>32561.000000</td>\n",
       "      <td>32561.000000</td>\n",
       "      <td>32561.000000</td>\n",
       "    </tr>\n",
       "    <tr>\n",
       "      <th>mean</th>\n",
       "      <td>38.581647</td>\n",
       "      <td>1.897784e+05</td>\n",
       "      <td>10.080679</td>\n",
       "      <td>1077.648844</td>\n",
       "      <td>87.303830</td>\n",
       "      <td>40.437456</td>\n",
       "    </tr>\n",
       "    <tr>\n",
       "      <th>std</th>\n",
       "      <td>13.640433</td>\n",
       "      <td>1.055500e+05</td>\n",
       "      <td>2.572720</td>\n",
       "      <td>7385.292085</td>\n",
       "      <td>402.960219</td>\n",
       "      <td>12.347429</td>\n",
       "    </tr>\n",
       "    <tr>\n",
       "      <th>min</th>\n",
       "      <td>17.000000</td>\n",
       "      <td>1.228500e+04</td>\n",
       "      <td>1.000000</td>\n",
       "      <td>0.000000</td>\n",
       "      <td>0.000000</td>\n",
       "      <td>1.000000</td>\n",
       "    </tr>\n",
       "    <tr>\n",
       "      <th>25%</th>\n",
       "      <td>28.000000</td>\n",
       "      <td>1.178270e+05</td>\n",
       "      <td>9.000000</td>\n",
       "      <td>0.000000</td>\n",
       "      <td>0.000000</td>\n",
       "      <td>40.000000</td>\n",
       "    </tr>\n",
       "    <tr>\n",
       "      <th>50%</th>\n",
       "      <td>37.000000</td>\n",
       "      <td>1.783560e+05</td>\n",
       "      <td>10.000000</td>\n",
       "      <td>0.000000</td>\n",
       "      <td>0.000000</td>\n",
       "      <td>40.000000</td>\n",
       "    </tr>\n",
       "    <tr>\n",
       "      <th>75%</th>\n",
       "      <td>48.000000</td>\n",
       "      <td>2.370510e+05</td>\n",
       "      <td>12.000000</td>\n",
       "      <td>0.000000</td>\n",
       "      <td>0.000000</td>\n",
       "      <td>45.000000</td>\n",
       "    </tr>\n",
       "    <tr>\n",
       "      <th>max</th>\n",
       "      <td>90.000000</td>\n",
       "      <td>1.484705e+06</td>\n",
       "      <td>16.000000</td>\n",
       "      <td>99999.000000</td>\n",
       "      <td>4356.000000</td>\n",
       "      <td>99.000000</td>\n",
       "    </tr>\n",
       "  </tbody>\n",
       "</table>\n",
       "</div>"
      ],
      "text/plain": [
       "                age        fnlwgt  education-num  capital-gain  capital-loss  \\\n",
       "count  32561.000000  3.256100e+04   32561.000000  32561.000000  32561.000000   \n",
       "mean      38.581647  1.897784e+05      10.080679   1077.648844     87.303830   \n",
       "std       13.640433  1.055500e+05       2.572720   7385.292085    402.960219   \n",
       "min       17.000000  1.228500e+04       1.000000      0.000000      0.000000   \n",
       "25%       28.000000  1.178270e+05       9.000000      0.000000      0.000000   \n",
       "50%       37.000000  1.783560e+05      10.000000      0.000000      0.000000   \n",
       "75%       48.000000  2.370510e+05      12.000000      0.000000      0.000000   \n",
       "max       90.000000  1.484705e+06      16.000000  99999.000000   4356.000000   \n",
       "\n",
       "       hours-per-week  \n",
       "count    32561.000000  \n",
       "mean        40.437456  \n",
       "std         12.347429  \n",
       "min          1.000000  \n",
       "25%         40.000000  \n",
       "50%         40.000000  \n",
       "75%         45.000000  \n",
       "max         99.000000  "
      ]
     },
     "execution_count": 8,
     "metadata": {},
     "output_type": "execute_result"
    }
   ],
   "source": [
    "data.describe()"
   ]
  },
  {
   "cell_type": "code",
   "execution_count": 9,
   "id": "f9ba2fa8",
   "metadata": {},
   "outputs": [
    {
     "name": "stdout",
     "output_type": "stream",
     "text": [
      "Column 'workclass' unique values:\n",
      "[' State-gov' ' Self-emp-not-inc' ' Private' ' Federal-gov' ' Local-gov'\n",
      " ' ?' ' Self-emp-inc' ' Without-pay' ' Never-worked']\n",
      "--------------------------------------------------\n",
      "Column 'education' unique values:\n",
      "[' Bachelors' ' HS-grad' ' 11th' ' Masters' ' 9th' ' Some-college'\n",
      " ' Assoc-acdm' ' Assoc-voc' ' 7th-8th' ' Doctorate' ' Prof-school'\n",
      " ' 5th-6th' ' 10th' ' 1st-4th' ' Preschool' ' 12th']\n",
      "--------------------------------------------------\n",
      "Column 'marital-status' unique values:\n",
      "[' Never-married' ' Married-civ-spouse' ' Divorced'\n",
      " ' Married-spouse-absent' ' Separated' ' Married-AF-spouse' ' Widowed']\n",
      "--------------------------------------------------\n",
      "Column 'occupation' unique values:\n",
      "[' Adm-clerical' ' Exec-managerial' ' Handlers-cleaners' ' Prof-specialty'\n",
      " ' Other-service' ' Sales' ' Craft-repair' ' Transport-moving'\n",
      " ' Farming-fishing' ' Machine-op-inspct' ' Tech-support' ' ?'\n",
      " ' Protective-serv' ' Armed-Forces' ' Priv-house-serv']\n",
      "--------------------------------------------------\n",
      "Column 'relationship' unique values:\n",
      "[' Not-in-family' ' Husband' ' Wife' ' Own-child' ' Unmarried'\n",
      " ' Other-relative']\n",
      "--------------------------------------------------\n",
      "Column 'race' unique values:\n",
      "[' White' ' Black' ' Asian-Pac-Islander' ' Amer-Indian-Eskimo' ' Other']\n",
      "--------------------------------------------------\n",
      "Column 'sex' unique values:\n",
      "[' Male' ' Female']\n",
      "--------------------------------------------------\n",
      "Column 'native-country' unique values:\n",
      "[' United-States' ' Cuba' ' Jamaica' ' India' ' ?' ' Mexico' ' South'\n",
      " ' Puerto-Rico' ' Honduras' ' England' ' Canada' ' Germany' ' Iran'\n",
      " ' Philippines' ' Italy' ' Poland' ' Columbia' ' Cambodia' ' Thailand'\n",
      " ' Ecuador' ' Laos' ' Taiwan' ' Haiti' ' Portugal' ' Dominican-Republic'\n",
      " ' El-Salvador' ' France' ' Guatemala' ' China' ' Japan' ' Yugoslavia'\n",
      " ' Peru' ' Outlying-US(Guam-USVI-etc)' ' Scotland' ' Trinadad&Tobago'\n",
      " ' Greece' ' Nicaragua' ' Vietnam' ' Hong' ' Ireland' ' Hungary'\n",
      " ' Holand-Netherlands']\n",
      "--------------------------------------------------\n",
      "Column 'income' unique values:\n",
      "[' <=50K' ' >50K']\n",
      "--------------------------------------------------\n"
     ]
    }
   ],
   "source": [
    "# First, check for placeholder values that might represent missing data\n",
    "for column in data.columns:\n",
    "    if data[column].dtype == 'object':  # Check only string columns\n",
    "        unique_values = data[column].unique()\n",
    "        print(f\"Column '{column}' unique values:\")\n",
    "        print(unique_values)\n",
    "        print(\"-\" * 50)"
   ]
  },
  {
   "cell_type": "code",
   "execution_count": null,
   "id": "d24f96f4",
   "metadata": {},
   "outputs": [
    {
     "name": "stdout",
     "output_type": "stream",
     "text": [
      "Missing values after replacement:\n",
      "age                  0\n",
      "workclass         1836\n",
      "fnlwgt               0\n",
      "education            0\n",
      "education-num        0\n",
      "marital-status       0\n",
      "occupation        1843\n",
      "relationship         0\n",
      "race                 0\n",
      "sex                  0\n",
      "capital-gain         0\n",
      "capital-loss         0\n",
      "hours-per-week       0\n",
      "native-country     583\n",
      "income               0\n",
      "dtype: int64\n",
      "\n",
      "Final missing values check:\n",
      "age               0\n",
      "workclass         0\n",
      "fnlwgt            0\n",
      "education         0\n",
      "education-num     0\n",
      "marital-status    0\n",
      "occupation        0\n",
      "relationship      0\n",
      "race              0\n",
      "sex               0\n",
      "capital-gain      0\n",
      "capital-loss      0\n",
      "hours-per-week    0\n",
      "native-country    0\n",
      "income            0\n",
      "dtype: int64\n",
      "\n",
      "Unique values after cleaning:\n",
      "\n",
      "Column 'workclass':\n",
      "['State-gov' 'Self-emp-not-inc' 'Private' 'Federal-gov' 'Local-gov'\n",
      " 'Self-emp-inc' 'Without-pay' 'Never-worked']\n",
      "\n",
      "Column 'occupation':\n",
      "['Adm-clerical' 'Exec-managerial' 'Handlers-cleaners' 'Prof-specialty'\n",
      " 'Other-service' 'Sales' 'Craft-repair' 'Transport-moving'\n",
      " 'Farming-fishing' 'Machine-op-inspct' 'Tech-support' 'Protective-serv'\n",
      " 'Armed-Forces' 'Priv-house-serv']\n",
      "\n",
      "Column 'native-country':\n",
      "['United-States' 'Cuba' 'Jamaica' 'India' 'Mexico' 'South' 'Puerto-Rico'\n",
      " 'Honduras' 'England' 'Canada' 'Germany' 'Iran' 'Philippines' 'Italy'\n",
      " 'Poland' 'Columbia' 'Cambodia' 'Thailand' 'Ecuador' 'Laos' 'Taiwan'\n",
      " 'Haiti' 'Portugal' 'Dominican-Republic' 'El-Salvador' 'France'\n",
      " 'Guatemala' 'China' 'Japan' 'Yugoslavia' 'Peru'\n",
      " 'Outlying-US(Guam-USVI-etc)' 'Scotland' 'Trinadad&Tobago' 'Greece'\n",
      " 'Nicaragua' 'Vietnam' 'Hong' 'Ireland' 'Hungary' 'Holand-Netherlands']\n"
     ]
    }
   ],
   "source": [
    "from sklearn.impute import SimpleImputer\n",
    "\n",
    "# 1. Replace ' ?' with numpy NaN (note the space before ?)\n",
    "data.replace(' ?', np.nan, inplace=True)\n",
    "\n",
    "# 2. Check missing values after replacement\n",
    "print(\"Missing values after replacement:\")\n",
    "print(data.isnull().sum())\n",
    "\n",
    "# 3. Handle missing values with appropriate strategies\n",
    "# For categorical columns with missing values\n",
    "cat_cols_with_missing = ['workclass', 'occupation', 'native-country']\n",
    "cat_imputer = SimpleImputer(strategy='most_frequent')\n",
    "data[cat_cols_with_missing] = cat_imputer.fit_transform(data[cat_cols_with_missing])\n",
    "\n",
    "# 4. Verify no missing values remain\n",
    "print(\"\\nFinal missing values check:\")\n",
    "print(data.isnull().sum())\n",
    "\n",
    "# 5. Clean up whitespace in categorical columns (optional but recommended)\n",
    "for col in data.select_dtypes(include='object').columns:\n",
    "    data[col] = data[col].str.strip()\n",
    "\n",
    "# 6. Show the unique values after cleaning\n",
    "print(\"\\nUnique values after cleaning:\")\n",
    "for col in cat_cols_with_missing:\n",
    "    print(f\"\\nColumn '{col}':\")\n",
    "    print(data[col].unique())"
   ]
  },
  {
   "cell_type": "code",
   "execution_count": 14,
   "id": "5dd06f7d",
   "metadata": {},
   "outputs": [
    {
     "name": "stdout",
     "output_type": "stream",
     "text": [
      "workclass: 8 unique values\n",
      "workclass\n",
      "Private             24532\n",
      "Self-emp-not-inc     2541\n",
      "Local-gov            2093\n",
      "State-gov            1298\n",
      "Self-emp-inc         1116\n",
      "Federal-gov           960\n",
      "Without-pay            14\n",
      "Never-worked            7\n",
      "Name: count, dtype: int64\n",
      "-----\n",
      "education: 16 unique values\n",
      "education\n",
      "HS-grad         10501\n",
      "Some-college     7291\n",
      "Bachelors        5355\n",
      "Masters          1723\n",
      "Assoc-voc        1382\n",
      "11th             1175\n",
      "Assoc-acdm       1067\n",
      "10th              933\n",
      "7th-8th           646\n",
      "Prof-school       576\n",
      "9th               514\n",
      "12th              433\n",
      "Doctorate         413\n",
      "5th-6th           333\n",
      "1st-4th           168\n",
      "Preschool          51\n",
      "Name: count, dtype: int64\n",
      "-----\n",
      "marital-status: 7 unique values\n",
      "marital-status\n",
      "Married-civ-spouse       14976\n",
      "Never-married            10683\n",
      "Divorced                  4443\n",
      "Separated                 1025\n",
      "Widowed                    993\n",
      "Married-spouse-absent      418\n",
      "Married-AF-spouse           23\n",
      "Name: count, dtype: int64\n",
      "-----\n",
      "occupation: 14 unique values\n",
      "occupation\n",
      "Prof-specialty       5983\n",
      "Craft-repair         4099\n",
      "Exec-managerial      4066\n",
      "Adm-clerical         3770\n",
      "Sales                3650\n",
      "Other-service        3295\n",
      "Machine-op-inspct    2002\n",
      "Transport-moving     1597\n",
      "Handlers-cleaners    1370\n",
      "Farming-fishing       994\n",
      "Tech-support          928\n",
      "Protective-serv       649\n",
      "Priv-house-serv       149\n",
      "Armed-Forces            9\n",
      "Name: count, dtype: int64\n",
      "-----\n",
      "relationship: 6 unique values\n",
      "relationship\n",
      "Husband           13193\n",
      "Not-in-family      8305\n",
      "Own-child          5068\n",
      "Unmarried          3446\n",
      "Wife               1568\n",
      "Other-relative      981\n",
      "Name: count, dtype: int64\n",
      "-----\n",
      "race: 5 unique values\n",
      "race\n",
      "White                 27816\n",
      "Black                  3124\n",
      "Asian-Pac-Islander     1039\n",
      "Amer-Indian-Eskimo      311\n",
      "Other                   271\n",
      "Name: count, dtype: int64\n",
      "-----\n",
      "sex: 2 unique values\n",
      "sex\n",
      "Male      21790\n",
      "Female    10771\n",
      "Name: count, dtype: int64\n",
      "-----\n",
      "native-country: 41 unique values\n",
      "native-country\n",
      "United-States                 29753\n",
      "Mexico                          643\n",
      "Philippines                     198\n",
      "Germany                         137\n",
      "Canada                          121\n",
      "Puerto-Rico                     114\n",
      "El-Salvador                     106\n",
      "India                           100\n",
      "Cuba                             95\n",
      "England                          90\n",
      "Jamaica                          81\n",
      "South                            80\n",
      "China                            75\n",
      "Italy                            73\n",
      "Dominican-Republic               70\n",
      "Vietnam                          67\n",
      "Guatemala                        64\n",
      "Japan                            62\n",
      "Poland                           60\n",
      "Columbia                         59\n",
      "Taiwan                           51\n",
      "Haiti                            44\n",
      "Iran                             43\n",
      "Portugal                         37\n",
      "Nicaragua                        34\n",
      "Peru                             31\n",
      "France                           29\n",
      "Greece                           29\n",
      "Ecuador                          28\n",
      "Ireland                          24\n",
      "Hong                             20\n",
      "Cambodia                         19\n",
      "Trinadad&Tobago                  19\n",
      "Laos                             18\n",
      "Thailand                         18\n",
      "Yugoslavia                       16\n",
      "Outlying-US(Guam-USVI-etc)       14\n",
      "Honduras                         13\n",
      "Hungary                          13\n",
      "Scotland                         12\n",
      "Holand-Netherlands                1\n",
      "Name: count, dtype: int64\n",
      "-----\n",
      "income: 2 unique values\n",
      "income\n",
      "<=50K    24720\n",
      ">50K      7841\n",
      "Name: count, dtype: int64\n",
      "-----\n"
     ]
    }
   ],
   "source": [
    "#Helps you see class balance and potential categories to group or combine.\n",
    "categorical_cols = data.select_dtypes(include='object').columns\n",
    "for col in categorical_cols:\n",
    "    print(f\"{col}: {data[col].nunique()} unique values\")\n",
    "    print(data[col].value_counts())\n",
    "    print(\"-----\")"
   ]
  },
  {
   "cell_type": "code",
   "execution_count": 22,
   "id": "e7d97f4a",
   "metadata": {},
   "outputs": [
    {
     "name": "stdout",
     "output_type": "stream",
     "text": [
      "Imputed workclass with 'Private'\n",
      "Imputed occupation with 'Prof-specialty'\n",
      "Imputed native-country with 'United-States'\n",
      "\n",
      "Missing values after imputation:\n",
      "age               0\n",
      "workclass         0\n",
      "fnlwgt            0\n",
      "education         0\n",
      "education-num     0\n",
      "marital-status    0\n",
      "occupation        0\n",
      "relationship      0\n",
      "race              0\n",
      "sex               0\n",
      "capital-gain      0\n",
      "capital-loss      0\n",
      "hours-per-week    0\n",
      "native-country    0\n",
      "income            0\n",
      "dtype: int64\n"
     ]
    }
   ],
   "source": [
    "# Custom imputation strategy based on your value counts\n",
    "imputation_strategy = {\n",
    "    'workclass': 'Private',  # Most frequent (74.8% of values)\n",
    "    'occupation': 'Prof-specialty',  # Most frequent occupation\n",
    "    'native-country': 'United-States'  # Overwhelmingly most common (91.4%)\n",
    "}\n",
    "\n",
    "for col, value in imputation_strategy.items():\n",
    "    data[col].fillna(value, inplace=True)\n",
    "    print(f\"Imputed {col} with '{value}'\")\n",
    "\n",
    "# Verify no missing values remain\n",
    "print(\"\\nMissing values after imputation:\")\n",
    "print(data.isnull().sum())"
   ]
  },
  {
   "cell_type": "markdown",
   "id": "72f97574",
   "metadata": {},
   "source": [
    "# Exploratory Data Analysis(EDA)"
   ]
  },
  {
   "cell_type": "code",
   "execution_count": 15,
   "id": "957f4f84",
   "metadata": {},
   "outputs": [
    {
     "data": {
      "text/plain": [
       "income\n",
       "<=50K    0.75919\n",
       ">50K     0.24081\n",
       "Name: proportion, dtype: float64"
      ]
     },
     "execution_count": 15,
     "metadata": {},
     "output_type": "execute_result"
    }
   ],
   "source": [
    "#distribution of target variable \n",
    "data['income'].value_counts(normalize=True)"
   ]
  },
  {
   "cell_type": "markdown",
   "id": "5c4d5da0",
   "metadata": {},
   "source": [
    "Imbalanced dataset:\n",
    "\n",
    "~76% earn ≤50K\n",
    "\n",
    "~24% earn >50K"
   ]
  },
  {
   "cell_type": "code",
   "execution_count": 16,
   "id": "02bb9efa",
   "metadata": {},
   "outputs": [
    {
     "data": {
      "image/png": "[encoded data removed]",
      "text/plain": [
       "<Figure size 640x480 with 1 Axes>"
      ]
     },
     "metadata": {},
     "output_type": "display_data"
    }
   ],
   "source": [
    "#Distribution of age \n",
    "sns.histplot(data['age'], kde=True)\n",
    "plt.title('Age Distribution')\n",
    "plt.show()"
   ]
  },
  {
   "cell_type": "markdown",
   "id": "bb806fa9",
   "metadata": {},
   "source": [
    "Observations:\n",
    "\n",
    "The highest number of people are in their 20s to 40s.\n",
    "\n",
    "The number of people decreases as age increases beyond 40.\n",
    "\n",
    "There are fewer people in the older age groups (60 and above).\n",
    "\n",
    "In simple terms, this chart shows that most people in this group are between 20 and 40 years old, and the number of people decreases as age increases"
   ]
  },
  {
   "cell_type": "code",
   "execution_count": 17,
   "id": "41785b08",
   "metadata": {},
   "outputs": [
    {
     "data": {
      "image/png": "[encoded data removed]",
      "text/plain": [
       "<Figure size 1000x600 with 1 Axes>"
      ]
     },
     "metadata": {},
     "output_type": "display_data"
    }
   ],
   "source": [
    "#Age vs Income\n",
    "import seaborn as sns\n",
    "import matplotlib.pyplot as plt\n",
    "\n",
    "plt.figure(figsize=(10, 6))\n",
    "sns.boxplot(x='income', y='age', data=data)\n",
    "plt.title('Age Distribution by Income')\n",
    "plt.show()"
   ]
  },
  {
   "cell_type": "code",
   "execution_count": 18,
   "id": "f2e57607",
   "metadata": {},
   "outputs": [
    {
     "data": {
      "text/plain": [
       "income\n",
       "<=50K    36.783738\n",
       ">50K     44.249841\n",
       "Name: age, dtype: float64"
      ]
     },
     "execution_count": 18,
     "metadata": {},
     "output_type": "execute_result"
    }
   ],
   "source": [
    "#Compare the Average Age of Both Classes\n",
    "data.groupby('income')['age'].mean()"
   ]
  },
  {
   "cell_type": "code",
   "execution_count": 19,
   "id": "3b09a1e2",
   "metadata": {},
   "outputs": [
    {
     "data": {
      "image/png": "[encoded data removed]",
      "text/plain": [
       "<Figure size 1000x600 with 1 Axes>"
      ]
     },
     "metadata": {},
     "output_type": "display_data"
    }
   ],
   "source": [
    "#Income by education \n",
    "plt.figure(figsize=(10, 6))\n",
    "sns.countplot(x='education', hue='income', data=data)\n",
    "plt.xticks(rotation=45)\n",
    "plt.title('Income by Education')\n",
    "plt.show()"
   ]
  },
  {
   "cell_type": "markdown",
   "id": "bca5ec17",
   "metadata": {},
   "source": [
    "Key Insights from Education vs. Income:\n",
    "More Education = Higher Income (Generally):\n",
    "\n",
    "Individuals with higher education levels (Masters, Doctorate, Prof-school) are more likely to earn >50K, even though they represent a smaller portion of the population.\n",
    "\n",
    "This means education is a strong predictor of income.\n",
    "\n",
    "HS-Grad and Bachelors are Common:\n",
    "\n",
    "These groups have many individuals, but most still earn <=50K.\n",
    "\n",
    "This tells us that having a degree doesn’t automatically mean a higher income, especially for Bachelor's or below. Other factors like occupation, experience, and hours worked also play a role.\n",
    "\n",
    "Low Education = Low Income:\n",
    "\n",
    "People with minimal education (Preschool, 1st-4th grade, etc.) overwhelmingly earn <=50K.\n",
    "\n",
    "These education levels may signal low-skilled or low-paying jobs."
   ]
  },
  {
   "cell_type": "code",
   "execution_count": 20,
   "id": "4ef165a1",
   "metadata": {},
   "outputs": [
    {
     "data": {
      "image/png": "[encoded data removed]",
      "text/plain": [
       "<Figure size 1000x600 with 1 Axes>"
      ]
     },
     "metadata": {},
     "output_type": "display_data"
    }
   ],
   "source": [
    "#Income by workclass\n",
    "plt.figure(figsize=(10, 6))\n",
    "sns.countplot(x='workclass', hue='income', data=data)\n",
    "plt.xticks(rotation=45)\n",
    "plt.title('Income by Workclass')\n",
    "plt.show()"
   ]
  },
  {
   "cell_type": "markdown",
   "id": "7bdb2d07",
   "metadata": {},
   "source": [
    "Observations:\n",
    "\n",
    "Private Sector: This group has the highest number of people, with most earning 50K or less (tall blue bar). A smaller portion earns more than 50K (orange bar).\n",
    "\n",
    "Self-emp-not-inc: A significant number of people are self-employed but not incorporated, with most earning 50K or less.\n",
    "State-gov, Local-gov, Federal-gov: These groups have fewer people overall, with most earning 50K or less.\n",
    "\n",
    "Self-emp-inc: People who are self-employed and incorporated have a higher proportion earning more than 50K compared to other groups.\n",
    "\n",
    "Without-pay and Never-worked: Very few people fall into these categories, and most earn 50K or less.\n",
    "\n",
    "In simple terms, this chart shows that most people work in the private sector, and the majority of them earn 50K or less per year. Self-employed individuals (not incorporated) also have a significant presence, mostly earning 50K or less. \n",
    "Government jobs (state, local, federal) have fewer people, with most earning 50K or less. Self-employed individuals who are incorporated tend to earn more than 50K. Very few people are without pay or have never worked."
   ]
  },
  {
   "cell_type": "code",
   "execution_count": 21,
   "id": "72936c08",
   "metadata": {},
   "outputs": [
    {
     "data": {
      "image/png": "[encoded data removed]",
      "text/plain": [
       "<Figure size 640x480 with 2 Axes>"
      ]
     },
     "metadata": {},
     "output_type": "display_data"
    }
   ],
   "source": [
    "#Correlation between numerical values\n",
    "corr = data.select_dtypes(include='number').corr()\n",
    "sns.heatmap(corr, annot=True, cmap='coolwarm')\n",
    "plt.title('Correlation Matrix')\n",
    "plt.show()"
   ]
  },
  {
   "cell_type": "markdown",
   "id": "2ef126db",
   "metadata": {},
   "source": [
    "✅ 1. Weak Correlations\n",
    "Most values are close to 0, meaning very weak relationships between most features.\n",
    "\n",
    "✅ 2. Useful Insight\n",
    "education-num has a positive correlation with capital-gain → People with higher education might invest more or better.\n",
    "\n",
    "hours-per-week has a small positive correlation with capital-gain → People who work more tend to earn more through investments.\n",
    "\n",
    "age has weak but positive correlations with things like capital-gain, hours-per-week → Older people might have more experience and better income sources.\n",
    "\n",
    "✅ 3. Low Multicollinearity\n",
    "No two features are very highly correlated , which means we likely don’t need to drop any variables due to redundancy."
   ]
  },
  {
   "cell_type": "markdown",
   "id": "53a9db2c",
   "metadata": {},
   "source": [
    "# Feature Engineering"
   ]
  },
  {
   "cell_type": "code",
   "execution_count": null,
   "id": "afeac3de",
   "metadata": {},
   "outputs": [],
   "source": [
    "# Create a binary column for capital gains\n",
    "data['has_capital_gain'] = (data['capital-gain'] > 0).astype(int)\n",
    "data['has_capital_loss'] = (data['capital-loss'] > 0).astype(int)\n",
    "\n",
    "# Cap extreme values at 99th percentile\n",
    "for col in ['capital-gain', 'capital-loss', 'hours-per-week']:\n",
    "    upper_limit = data[col].quantile(0.99)\n",
    "    data[col] = np.where(data[col] > upper_limit, upper_limit, data[col])\n"
   ]
  },
  {
   "cell_type": "code",
   "execution_count": 24,
   "id": "262f8cb9",
   "metadata": {},
   "outputs": [],
   "source": [
    "#Target variable encoding\n",
    "data['income'] = data['income'].map({'<=50K': 0, '>50K': 1}).astype(int)"
   ]
  },
  {
   "cell_type": "code",
   "execution_count": 30,
   "id": "242285d3",
   "metadata": {},
   "outputs": [],
   "source": [
    "# Handle rare categories (combining categories with very low counts)\n",
    "def handle_rare_categories(data, column, threshold=100, new_category='Other'):\n",
    "    counts = data[column].value_counts()\n",
    "    rare_categories = counts[counts < threshold].index\n",
    "    data[column] = data[column].replace(rare_categories, new_category)\n",
    "    return data\n",
    "\n",
    "# Apply to appropriate columns\n",
    "data = handle_rare_categories(data, 'workclass', threshold=100)\n",
    "data = handle_rare_categories(data, 'native-country', threshold=100)\n",
    "data = handle_rare_categories(data, 'occupation', threshold=100)"
   ]
  },
  {
   "cell_type": "code",
   "execution_count": 27,
   "id": "0243dc32",
   "metadata": {},
   "outputs": [],
   "source": [
    "# Create more meaningful age groups\n",
    "data['age_group'] = pd.cut(data['age'],\n",
    "                          bins=[0, 25, 35, 45, 55, 65, 100],\n",
    "                          labels=['<25', '25-34', '35-44', '45-54', '55-64', '65+'])\n",
    "\n",
    "# Drop original 'age' column\n",
    "data.drop('age', axis=1, inplace=True)"
   ]
  },
  {
   "cell_type": "code",
   "execution_count": 28,
   "id": "221e1bb1",
   "metadata": {},
   "outputs": [],
   "source": [
    "# Simplify education levels\n",
    "education_mapping = {\n",
    "    'Preschool': 'No-HS',\n",
    "    '1st-4th': 'No-HS',\n",
    "    '5th-6th': 'No-HS',\n",
    "    '7th-8th': 'No-HS',\n",
    "    '9th': 'No-HS',\n",
    "    '10th': 'No-HS',\n",
    "    '11th': 'No-HS',\n",
    "    '12th': 'No-HS',\n",
    "    'HS-grad': 'HS',\n",
    "    'Some-college': 'Some-College',\n",
    "    'Assoc-voc': 'Associate',\n",
    "    'Assoc-acdm': 'Associate',\n",
    "    'Bachelors': 'Bachelors',\n",
    "    'Masters': 'Masters',\n",
    "    'Prof-school': 'Prof-school',\n",
    "    'Doctorate': 'Doctorate'\n",
    "}\n",
    "data['education_simplified'] = data['education'].map(education_mapping)\n",
    "\n",
    "# Drop the original education column\n",
    "data.drop('education', axis=1, inplace=True)\n"
   ]
  },
  {
   "cell_type": "code",
   "execution_count": 29,
   "id": "36e9d445",
   "metadata": {},
   "outputs": [],
   "source": [
    "#Create work hours categories\n",
    "data['hours_category'] = pd.cut(data['hours-per-week'],\n",
    "                               bins=[0, 20, 40, 60, 100],\n",
    "                               labels=['Part-time', 'Full-time', 'Overtime', 'Excessive'])\n",
    "\n",
    "# Drop the original hours-per-week column\n",
    "data.drop('hours-per-week', axis=1, inplace=True)"
   ]
  },
  {
   "cell_type": "markdown",
   "id": "0eb6bd25",
   "metadata": {},
   "source": [
    "Handling Class Imbalance"
   ]
  },
  {
   "cell_type": "code",
   "execution_count": 31,
   "id": "05db01fb",
   "metadata": {},
   "outputs": [
    {
     "data": {
      "text/plain": [
       "income\n",
       "1    0.5\n",
       "0    0.5\n",
       "Name: proportion, dtype: float64"
      ]
     },
     "execution_count": 31,
     "metadata": {},
     "output_type": "execute_result"
    }
   ],
   "source": [
    "# Import necessary libraries\n",
    "from imblearn.over_sampling import SMOTE\n",
    "from imblearn.under_sampling import RandomUnderSampler\n",
    "from imblearn.combine import SMOTETomek\n",
    "from sklearn.model_selection import train_test_split\n",
    "from sklearn.ensemble import RandomForestClassifier\n",
    "from sklearn.preprocessing import OneHotEncoder, StandardScaler\n",
    "from sklearn.compose import ColumnTransformer\n",
    "from sklearn.pipeline import Pipeline\n",
    "\n",
    "X = data.drop('income', axis=1)\n",
    "y = data['income']\n",
    "\n",
    "# Identify categorical and numerical columns\n",
    "cat_cols = X.select_dtypes(include=['object']).columns\n",
    "num_cols = X.select_dtypes(include=['int64']).columns\n",
    "\n",
    "# Create preprocessing pipeline\n",
    "preprocessor = ColumnTransformer(\n",
    "    transformers=[\n",
    "        ('num', StandardScaler(), num_cols),\n",
    "        ('cat', OneHotEncoder(handle_unknown='ignore'), cat_cols)\n",
    "    ])\n",
    "\n",
    "\n",
    "# Split data before resampling to avoid data leakage\n",
    "X_train, X_test, y_train, y_test = train_test_split(\n",
    "    X, y, test_size=0.2, random_state=42, stratify=y)\n",
    "\n",
    "train_columns = X_train.columns  # Save column names immediately after encoding\n",
    "with open('columns.txt', 'w') as f:\n",
    "    f.write('\\n'.join(train_columns))\n",
    "\n",
    "#  SMOTE (Best for moderate imbalance)\n",
    "smote = SMOTE(random_state=42)\n",
    "X_res, y_res = smote.fit_resample(preprocessor.fit_transform(X_train), y_train)\n",
    "\n",
    "y_res.value_counts(normalize=True)"
   ]
  },
  {
   "cell_type": "markdown",
   "id": "6e7768d7",
   "metadata": {},
   "source": [
    "# Model Creation"
   ]
  },
  {
   "cell_type": "code",
   "execution_count": 32,
   "id": "06213060",
   "metadata": {},
   "outputs": [
    {
     "name": "stdout",
     "output_type": "stream",
     "text": [
      "              precision    recall  f1-score   support\n",
      "\n",
      "           0       0.88      0.85      0.86      4945\n",
      "           1       0.57      0.62      0.59      1568\n",
      "\n",
      "    accuracy                           0.80      6513\n",
      "   macro avg       0.72      0.74      0.73      6513\n",
      "weighted avg       0.80      0.80      0.80      6513\n",
      "\n"
     ]
    }
   ],
   "source": [
    "from imblearn.pipeline import Pipeline as ImbPipeline\n",
    "from sklearn.metrics import classification_report\n",
    "\n",
    "# Full pipeline with SMOTE and RandomForest\n",
    "pipeline = ImbPipeline(steps=[\n",
    "    ('preprocessor', preprocessor),\n",
    "    ('smote', SMOTE(random_state=42)),\n",
    "    ('classifier', RandomForestClassifier(n_estimators=100, random_state=42))\n",
    "])\n",
    "\n",
    "# Train model\n",
    "pipeline.fit(X_train, y_train)\n",
    "\n",
    "# Evaluate\n",
    "y_pred = pipeline.predict(X_test)\n",
    "print(classification_report(y_test, y_pred))"
   ]
  },
  {
   "cell_type": "markdown",
   "id": "1a6c2ebd",
   "metadata": {},
   "source": [
    "Issue: The model favors class 0. Precision and recall for class 1 are low — meaning it's missing a lot of people who earn >50K (recall=0.62) and also misclassifying a decent number of them (precision=0.57)."
   ]
  },
  {
   "cell_type": "code",
   "execution_count": 33,
   "id": "de06ad6d",
   "metadata": {},
   "outputs": [
    {
     "name": "stdout",
     "output_type": "stream",
     "text": [
      "              precision    recall  f1-score   support\n",
      "\n",
      "           0       0.96      0.66      0.79      4945\n",
      "           1       0.46      0.92      0.62      1568\n",
      "\n",
      "    accuracy                           0.73      6513\n",
      "   macro avg       0.71      0.79      0.70      6513\n",
      "weighted avg       0.84      0.73      0.75      6513\n",
      "\n"
     ]
    }
   ],
   "source": [
    "from xgboost import XGBClassifier\n",
    "# Use XGBoost with scale_pos_weight\n",
    "scale_pos_weight = (y_train == 0).sum() / (y_train == 1).sum()\n",
    "\n",
    "pipeline = ImbPipeline([\n",
    "    ('preprocessor', preprocessor),\n",
    "    ('smote', SMOTE(random_state=42)),\n",
    "    ('classifier', XGBClassifier(\n",
    "        random_state=42,\n",
    "        use_label_encoder=False,\n",
    "        eval_metric='logloss',\n",
    "        scale_pos_weight=scale_pos_weight,\n",
    "        n_estimators=100,\n",
    "        learning_rate=0.1,\n",
    "        max_depth=5\n",
    "    ))\n",
    "])\n",
    "\n",
    "# Train\n",
    "pipeline.fit(X_train, y_train)\n",
    "\n",
    "# Evaluate\n",
    "y_pred = pipeline.predict(X_test)\n",
    "print(classification_report(y_test, y_pred))\n"
   ]
  },
  {
   "cell_type": "markdown",
   "id": "ffdfff71",
   "metadata": {},
   "source": [
    "Overall Accuracy: 73%\n",
    "\n",
    "Class 1 Recall Improved Massively ✅ (from 0.62 → 0.92) — Great for identifying >50K earners!\n",
    "\n",
    "Class 1 Precision Dropped ❌ (from 0.57 → 0.46) — meaning more false positives now.\n",
    "\n",
    "Class 0 Recall Dropped ❌ — it's now missing more people who earn ≤50K.\n",
    "\n",
    "🎯 What This Means\n",
    "You’ve swung the balance:\n",
    "\n",
    "Now you capture nearly all high earners (great recall for class 1),\n",
    "\n",
    "But you’re misclassifying many low earners as high earners (bad precision for class 1, lower recall for class 0).\n",
    "\n",
    "This is a common trade-off when using SMOTE + scale_pos_weight: the model focuses hard on detecting the minority class."
   ]
  },
  {
   "cell_type": "code",
   "execution_count": 34,
   "id": "5be11a55",
   "metadata": {},
   "outputs": [
    {
     "name": "stdout",
     "output_type": "stream",
     "text": [
      "              precision    recall  f1-score   support\n",
      "\n",
      "           0       0.95      0.72      0.82      4945\n",
      "           1       0.50      0.88      0.64      1568\n",
      "\n",
      "    accuracy                           0.76      6513\n",
      "   macro avg       0.73      0.80      0.73      6513\n",
      "weighted avg       0.84      0.76      0.78      6513\n",
      "\n"
     ]
    }
   ],
   "source": [
    "from sklearn.metrics import precision_recall_curve, classification_report\n",
    "\n",
    "# Get predicted probabilities for class 1\n",
    "y_proba = pipeline.predict_proba(X_test)[:, 1]\n",
    "\n",
    "# Try a threshold (e.g., 0.6 instead of 0.5)\n",
    "custom_threshold = 0.6\n",
    "y_pred_custom = (y_proba >= custom_threshold).astype(int)\n",
    "\n",
    "# Evaluate\n",
    "print(classification_report(y_test, y_pred_custom))\n"
   ]
  },
  {
   "cell_type": "markdown",
   "id": "295deed4",
   "metadata": {},
   "source": [
    " Key Improvements:\n",
    "Better precision for class 1 (was 0.46 → now 0.50 ✅)\n",
    "\n",
    "High recall for class 1 maintained (still 0.88 ✅)\n",
    "\n",
    "Overall accuracy improved (from 73% → now 76% ✅)\n",
    "\n",
    "More balanced performance compared to before!\n",
    "\n"
   ]
  },
  {
   "cell_type": "code",
   "execution_count": 35,
   "id": "03998a49",
   "metadata": {},
   "outputs": [
    {
     "data": {
      "image/png": "[encoded data removed]",
      "text/plain": [
       "<Figure size 640x480 with 1 Axes>"
      ]
     },
     "metadata": {},
     "output_type": "display_data"
    }
   ],
   "source": [
    "from sklearn.metrics import precision_recall_curve\n",
    "\n",
    "# Predict probabilities\n",
    "y_proba = pipeline.predict_proba(X_test)[:, 1]\n",
    "prec, rec, thresholds = precision_recall_curve(y_test, y_proba)\n",
    "\n",
    "# Plot\n",
    "plt.plot(thresholds, prec[:-1], label='Precision')\n",
    "plt.plot(thresholds, rec[:-1], label='Recall')\n",
    "plt.xlabel('Threshold')\n",
    "plt.ylabel('Score')\n",
    "plt.title('Precision-Recall vs Threshold')\n",
    "plt.legend()\n",
    "plt.grid()\n",
    "plt.show()\n"
   ]
  },
  {
   "cell_type": "markdown",
   "id": "585bff83",
   "metadata": {},
   "source": [
    "You're getting high recall (0.88) for class 1 (>50K) — excellent at catching true positives.\n",
    "\n",
    "But precision is 0.50, meaning 50% of your class 1 predictions are false positives."
   ]
  },
  {
   "cell_type": "markdown",
   "id": "b859a7d9",
   "metadata": {},
   "source": [
    "# Ensemble of Models"
   ]
  },
  {
   "cell_type": "code",
   "execution_count": null,
   "id": "12ebd2c7",
   "metadata": {},
   "outputs": [
    {
     "name": "stdout",
     "output_type": "stream",
     "text": [
      "              precision    recall  f1-score   support\n",
      "\n",
      "           0       0.90      0.88      0.89      4945\n",
      "           1       0.64      0.68      0.66      1568\n",
      "\n",
      "    accuracy                           0.83      6513\n",
      "   macro avg       0.77      0.78      0.78      6513\n",
      "weighted avg       0.84      0.83      0.83      6513\n",
      "\n"
     ]
    }
   ],
   "source": [
    "from sklearn.ensemble import VotingClassifier, RandomForestClassifier\n",
    "from sklearn.linear_model import LogisticRegression\n",
    "\n",
    "\n",
    "cat_cols = X.select_dtypes(include=['object']).columns\n",
    "num_cols = X.select_dtypes(include=['int64']).columns\n",
    "\n",
    "\n",
    "# Preprocessing pipeline\n",
    "preprocessor = ColumnTransformer(\n",
    "    transformers=[\n",
    "        ('num', StandardScaler(), num_cols),\n",
    "        ('cat', OneHotEncoder(handle_unknown='ignore'), cat_cols)\n",
    "    ]\n",
    ")\n",
    "\n",
    "# Classifiers\n",
    "log_reg = LogisticRegression(max_iter=1000, solver='liblinear')\n",
    "rf = RandomForestClassifier(n_estimators=100, random_state=42)\n",
    "xgb = XGBClassifier(n_estimators=200, learning_rate=0.1, use_label_encoder=False, eval_metric='logloss', random_state=42)\n",
    "\n",
    "voting_model = VotingClassifier(\n",
    "    estimators=[\n",
    "        ('lr', log_reg),\n",
    "        ('rf', rf),\n",
    "        ('xgb', xgb)\n",
    "    ],\n",
    "    voting='soft'\n",
    ")\n",
    "\n",
    "# Final pipeline\n",
    "pipeline = ImbPipeline(steps=[\n",
    "    ('preprocessor', preprocessor),\n",
    "    ('smote', SMOTE(random_state=42)),\n",
    "    ('classifier', voting_model)\n",
    "])\n",
    "\n",
    "# Train/test split\n",
    "X_train, X_test, y_train, y_test = train_test_split(X, y, test_size=0.2, stratify=y, random_state=42)\n",
    "\n",
    "# Fit\n",
    "pipeline.fit(X_train, y_train)\n",
    "\n",
    "# Predict probabilities\n",
    "y_proba = pipeline.predict_proba(X_test)[:, 1]\n",
    "\n",
    "# Custom threshold\n",
    "threshold = 0.6\n",
    "y_pred_thresh = (y_proba >= threshold).astype(int)\n",
    "\n",
    "# Evaluate\n",
    "print(classification_report(y_test, y_pred_thresh))"
   ]
  },
  {
   "cell_type": "markdown",
   "id": "b94095d6",
   "metadata": {},
   "source": [
    "✅ Overall Accuracy: 83%\n",
    "⚖️ Macro F1-score: 0.78 (Balanced performance across both classes)\n",
    "Class 0 (majority) is predicted very well — high precision and recall.\n",
    "\n",
    "Class 1 (minority) performance has improved significantly over your earlier models:\n",
    "\n",
    "Precision: from ~0.46 → 0.64\n",
    "\n",
    "Recall: from ~0.66 → 0.68\n",
    "\n",
    "F1-score: from ~0.62 → 0.66"
   ]
  },
  {
   "cell_type": "markdown",
   "id": "a5ee097c",
   "metadata": {},
   "source": [
    "# Model Comparison Visualization"
   ]
  },
  {
   "cell_type": "code",
   "execution_count": 54,
   "id": "9bd52da4",
   "metadata": {},
   "outputs": [
    {
     "data": {
      "image/png": "[encoded data removed]",
      "text/plain": [
       "<Figure size 1000x600 with 1 Axes>"
      ]
     },
     "metadata": {},
     "output_type": "display_data"
    }
   ],
   "source": [
    "#Accuracy Comparison Bar Chart\n",
    "\n",
    "models = ['RandomForest', 'XGBoost', 'Voting_Model',]\n",
    "accuracies = [80, 76, 83,]\n",
    "\n",
    "# Create bar chart\n",
    "plt.figure(figsize=(10, 6))\n",
    "plt.bar(models, accuracies, color=['skyblue', 'orange', 'seagreen'])\n",
    "plt.xlabel('Models')\n",
    "plt.ylabel('Accuracy (%)')\n",
    "plt.title('Model Accuracy Comparison')\n",
    "plt.ylim(0, 100)\n",
    "for i, v in enumerate(accuracies):\n",
    "    plt.text(i, v + 1, str(v), ha='center', fontweight='bold')\n",
    "plt.show()"
   ]
  },
  {
   "cell_type": "code",
   "execution_count": 55,
   "id": "4b83a184",
   "metadata": {},
   "outputs": [],
   "source": [
    "import joblib\n",
    "# Save the model\n",
    "joblib.dump(voting_model, 'adult_income_voting_model.pkl')\n",
    "joblib.dump(preprocessor, 'adult_income_preprocessor.pkl')\n",
    "joblib.dump(smote, 'adult_income_smote.pkl')\n",
    "joblib.dump(pipeline, 'adult_income_pipeline.pkl')\n",
    "joblib.dump(X_train, 'X_train.pkl')\n",
    "joblib.dump(y_train, 'y_train.pkl')\n",
    "\n",
    "# Save the column names\n",
    "with open('columns.txt', 'w') as f:\n",
    "    f.write('\\n'.join(train_columns))\n"
   ]
  }
 ],
 "metadata": {
  "kernelspec": {
   "display_name": "Python 3",
   "language": "python",
   "name": "python3"
  },
  "language_info": {
   "codemirror_mode": {
    "name": "ipython",
    "version": 3
   },
   "file_extension": ".py",
   "mimetype": "text/x-python",
   "name": "python",
   "nbconvert_exporter": "python",
   "pygments_lexer": "ipython3",
   "version": "3.9.6"
  }
 },
 "nbformat": 4,
 "nbformat_minor": 5
}
